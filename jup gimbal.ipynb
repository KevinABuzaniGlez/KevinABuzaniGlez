{
 "cells": [
  {
   "cell_type": "markdown",
   "id": "d86008ee",
   "metadata": {},
   "source": [
    "# Gimbal Lock.\n",
    "\n",
    "This program is a demonstration of gimbal lock. A gimbal has 3 Degrees of Freedom. If the first term ring o the third term ring becomes parallel to the middle one, the gimbal lock and it loses a DoF. This can be avoided by knowing when gimbal lock will occur and take it to account when you do the rotations. Also by adding a fourth ring but it isn't convinient in robot simulation. "
   ]
  },
  {
   "cell_type": "markdown",
   "id": "1c541a20-1bf3-4b25-942a-0b12d4532253",
   "metadata": {},
   "source": [
    "First we import the libraries. Then we set some variables that are going to be useful later in the code. After that we initialize the physics server as a GUI, and define the variable useFixedBase."
   ]
  },
  {
   "cell_type": "code",
   "execution_count": 1,
   "id": "aae5f73e-2c42-4a82-9f3e-79d613b0df89",
   "metadata": {},
   "outputs": [],
   "source": [
    "%matplotlib ipympl\n",
    "import pybullet as pb\n",
    "import pybullet_data\n",
    "import ipympl\n",
    "import matplotlib.pyplot\n",
    "\n",
    "\n",
    "#GUI\n",
    "physicsClient = pb.connect(pb.DIRECT)\n",
    "#physicsClient = pb.connect(pb.GUI)\n",
    "\n",
    "#Plane \n",
    "pb.setAdditionalSearchPath(pybullet_data.getDataPath())\n",
    "plane= pb.loadURDF('plane.urdf')\n",
    "\n",
    "useFixedBase=True"
   ]
  },
  {
   "cell_type": "code",
   "execution_count": 2,
   "id": "28a93825",
   "metadata": {},
   "outputs": [],
   "source": [
    "from dataclasses import dataclass\n",
    "from pandas import array\n",
    "import transforms3d as tf \n",
    "import numpy as np\n",
    "from numpy import ndarray, uint8\n",
    "from matplotlib.image import AxesImage\n",
    "\n",
    "#Functions and Variables\n",
    "\n",
    "#Corrects the pose of the gimbal in pybullet \n",
    "def Pose(Ring1,Ring2,Ring3,PosR1,PosR2,PosR3):\n",
    "  pb.resetBasePositionAndOrientation(Ring1,[0,0,1], PosR1) \n",
    "  pb.resetBasePositionAndOrientation(Ring2,[0,0,1], PosR2)        \n",
    "  pb.resetBasePositionAndOrientation(Ring3,[0,0,1], PosR3)\n",
    "\n",
    "@dataclass\n",
    "class Configs:\n",
    "    roll_Camera  = np.pi/4\n",
    "    pitch_Camera = -10.0\n",
    "    yaw_Camera=np.pi/4\n",
    "    fov=60\n",
    "    pixelWidth = 1500\n",
    "    pixelHeight = 700\n",
    "    upAxisIndex = 2\n",
    "    camDistance = 4\n",
    "    Near = 0.01\n",
    "    Far = 100\n",
    "    R=0.0 # Roll_Slider\n",
    "    P=0.0 # Pitch_Slider\n",
    "    Y=0.0 # Yaw_Slider\n",
    "    i=0.0\n",
    "    w:int=0\n",
    "    h:int=0\n",
    "    rgb:tuple=()\n",
    "    cameraPos = [1, 1, 1]\n",
    "    camTargetPos = [0, 0, 0]\n",
    "    np_img_arr: np.ndarray = ()\n",
    "    img_data: AxesImage = ()\n",
    "\n",
    "\n",
    "configs = Configs()\n",
    "\n"
   ]
  },
  {
   "cell_type": "markdown",
   "id": "4172c917",
   "metadata": {},
   "source": [
    "Figure 1 shows that when we run the program we can se that we spawn the environment. "
   ]
  },
  {
   "cell_type": "markdown",
   "id": "3b8bdd0d",
   "metadata": {},
   "source": [
    "\n",
    "\n",
    "In this section, we load the three rings that are going to be used to make a gimbal. Notice that when we load the Urdf files, I put useFixedBase, that is because we need that the rings are not able to move.\n",
    "\n",
    "Then we set some sliders, there we define the name of the slider, the range and set the startup number."
   ]
  },
  {
   "cell_type": "code",
   "execution_count": 3,
   "id": "183bb03a",
   "metadata": {},
   "outputs": [],
   "source": [
    "#Ring 1 \n",
    "Ring1=pb.loadURDF(\"3rd ring.urdf\", useFixedBase= useFixedBase) # 3rd term / Outer ring\n",
    "\n",
    "#Ring 2\n",
    "Ring2=pb.loadURDF(\"1st ring.urdf\", useFixedBase= useFixedBase) # Middle ring\n",
    "\n",
    "#Ring 3\n",
    "Ring3=pb.loadURDF(\"2nd ring.urdf\", useFixedBase= useFixedBase) # 1st term/ Inner ring\n"
   ]
  },
  {
   "cell_type": "markdown",
   "id": "3bead242",
   "metadata": {},
   "source": [
    "***Simulation steps***\n",
    "\n",
    "In this part of the code, first we make the program read the keyboard so we can code some keyboard events, and define which keys are set to do an specific action.Then we make the system read the parameters we define outside the loop so they can appear in the simulation constantly. This parameters define zyx (Roll, Pitch, Yaw) of the gimbal given in Euler Angles. After that, we define the actions of the keys, this actions trigger gimbal lock.\n",
    "\n",
    "Finally, using the library Transforms3d, we convert the Euler angles to quarternions to define, and then we define the pose of the gimbal.\n",
    "\n",
    "The rotation sequence I used is: Rzyx\n",
    "\n",
    "$R = R_z(\\psi) R_y(\\theta) R_x(\\phi)$\n",
    "\n",
    "$R=\\begin{bmatrix}cos(\\psi) & -sin(\\psi) & 0\\\\ sin(\\psi) & cos(\\psi) & 0 \\\\ 0 & 0 & 1 \\end{bmatrix} * \\begin{bmatrix}cos(\\theta) & 0 & sin(\\theta)\\\\ 0 & 1 & 0 \\\\ -sin(\\theta) & 0 & cos(\\theta) \\end{bmatrix} * \\begin{bmatrix} 1 & 0 & 0\\\\ 0 & cos(\\phi) & -sin(\\phi) \\\\0 & sin(\\phi) & cos(\\phi) \\end{bmatrix}$ \n",
    "\n",
    "We use the camera to get the image of the giroscope so we can plot it with matplotlib."
   ]
  },
  {
   "cell_type": "code",
   "execution_count": 5,
   "id": "41aeb3e5",
   "metadata": {
    "scrolled": true
   },
   "outputs": [
    {
     "data": {
      "application/vnd.jupyter.widget-view+json": {
       "model_id": "749fd1311d0643d0bf6ced5c0c402e2d",
       "version_major": 2,
       "version_minor": 0
      },
      "text/plain": [
       "FloatSlider(value=0.0, description='Roll', max=3.141592653589793, min=-3.141592653589793, step=0.05)"
      ]
     },
     "metadata": {},
     "output_type": "display_data"
    },
    {
     "data": {
      "application/vnd.jupyter.widget-view+json": {
       "model_id": "e9f1383cc387477eb36a390c2ac5cd6d",
       "version_major": 2,
       "version_minor": 0
      },
      "text/plain": [
       "FloatSlider(value=0.0, description='Pitch', max=3.141592653589793, min=-3.141592653589793, step=0.05)"
      ]
     },
     "metadata": {},
     "output_type": "display_data"
    },
    {
     "data": {
      "application/vnd.jupyter.widget-view+json": {
       "model_id": "9fdd2c4c6f81454c91f562e9b43d0891",
       "version_major": 2,
       "version_minor": 0
      },
      "text/plain": [
       "FloatSlider(value=0.0, description='Yaw', max=3.141592653589793, min=-3.141592653589793, step=0.05)"
      ]
     },
     "metadata": {},
     "output_type": "display_data"
    },
    {
     "data": {
      "application/vnd.jupyter.widget-view+json": {
       "model_id": "53004a7c77d64a7dbd5f1312ecee3ab3",
       "version_major": 2,
       "version_minor": 0
      },
      "text/plain": [
       "Button(description='Show Graph', style=ButtonStyle())"
      ]
     },
     "metadata": {},
     "output_type": "display_data"
    },
    {
     "data": {
      "application/vnd.jupyter.widget-view+json": {
       "model_id": "d0b0e350f3654464b32659285fbc472d",
       "version_major": 2,
       "version_minor": 0
      },
      "text/plain": [
       "Output()"
      ]
     },
     "metadata": {},
     "output_type": "display_data"
    },
    {
     "data": {
      "application/vnd.jupyter.widget-view+json": {
       "model_id": "fb705a8059484064b5d0d56eb9cc182a",
       "version_major": 2,
       "version_minor": 0
      },
      "text/plain": [
       "Output()"
      ]
     },
     "metadata": {},
     "output_type": "display_data"
    }
   ],
   "source": [
    "from IPython.display import clear_output\n",
    "import matplotlib.pyplot as plt\n",
    "import ipywidgets as widgets\n",
    "import time\n",
    "\n",
    "# Create the sliders and a button \n",
    "Slider_1 = widgets.FloatSlider(value=configs.R, description= 'Roll' ,min=-np.pi, max=np.pi, step=0.05) #Roll\n",
    "Slider_2 = widgets.FloatSlider(value=configs.P, description= 'Pitch' ,min=-np.pi, max=np.pi, step=0.05) #Pitch\n",
    "Slider_3 = widgets.FloatSlider(value=configs.Y, description= 'Yaw' ,min=-np.pi, max=np.pi, step=0.05) #Yaw\n",
    "\n",
    "Updt=widgets.Button(description='Show Graph') # This button is used to update the image of the gimbal\n",
    "\n",
    "# Outputs \n",
    "output2 = widgets.Output() #Image output\n",
    "output_Sliders=widgets.Output() #Sliders output\n",
    "\n",
    "\n",
    "# Display Widgets, and Outputs\n",
    "display(Slider_1,Slider_2,Slider_3,Updt,output2,output_Sliders)\n",
    "\n",
    "# The following three functions are used to change the value of the rotations of the gimbal\n",
    "\n",
    "# Roll funtion \n",
    "def value_slider(change):\n",
    "    with output_Sliders:\n",
    "        clear_output()\n",
    "        configs.R=change['new']\n",
    "\n",
    "# Pitch function\n",
    "def value_slider1(change):\n",
    "    with output_Sliders:\n",
    "        clear_output()\n",
    "        configs.P=change['new']\n",
    "\n",
    "# Yaw function\n",
    "def value_slider2(change):\n",
    "    with output_Sliders:\n",
    "        clear_output()\n",
    "        configs.Y=change['new']\n",
    "\n",
    "# These callback functions are activated when you move the sliders.        \n",
    "\n",
    "# Main Function\n",
    "def Update_Value(b):\n",
    "    with output2:\n",
    "        clear_output()\n",
    "        PosR1=tf.euler.euler2quat(0,np.pi/2,configs.Y, 'rzyx') # 3rd term / Outer ring\n",
    "        PosR2=tf.euler.euler2quat(0, configs.P+np.pi,configs.Y, 'rzyx') # Middle ring\n",
    "        PosR3=tf.euler.euler2quat(np.pi/2+configs.R,np.pi+configs.P,configs.Y, 'rzyx') # 1st term/ Inner ring\n",
    " \n",
    "        # Calls function for pose\n",
    "        Pose(Ring1,Ring2,Ring3,PosR1,PosR2,PosR3)\n",
    "\n",
    "        # Renders the image\n",
    "        viewMatrix = pb.computeViewMatrixFromYawPitchRoll(configs.camTargetPos, configs.camDistance, configs.yaw_Camera, configs.pitch_Camera,\n",
    "                                                                configs.roll_Camera, configs.upAxisIndex)\n",
    "        aspect = configs.pixelWidth / configs.pixelHeight\n",
    "        projectionMatrix = pb.computeProjectionMatrixFOV(configs.fov, aspect, configs.Near, configs.Far)\n",
    "\n",
    "        img_arr = pb.getCameraImage(configs.pixelWidth,\n",
    "                                        configs.pixelHeight,\n",
    "                                        viewMatrix,\n",
    "                                        projectionMatrix,\n",
    "                                        shadow=1,\n",
    "                                        lightDirection=[1, 1, 1],\n",
    "                                        renderer=pb.ER_TINY_RENDERER)\n",
    "\n",
    "        configs.w = img_arr[0]  #width of the image, in pixels\n",
    "        configs.h = img_arr[1]  #height of the image, in pixels\n",
    "        configs.rgb = img_arr[2]  #color data RGB\n",
    "\n",
    "     \n",
    "        configs.np_img_arr = np.reshape(configs.rgb, (configs.h, configs.w, 4)).astype(np.uint8)\n",
    "\n",
    "        if configs.i==0:\n",
    "            configs.img_data = plt.imshow(configs.np_img_arr) \n",
    "            configs.i=1\n",
    "        else:\n",
    "            configs.img_data.set_data(configs.np_img_arr)\n",
    "        \n",
    "\n",
    "        plt.title('Gimbal')\n",
    "        plt.axis('off')\n",
    "        plt.pause(.00001)\n",
    "\n",
    " \n",
    "# Links the button with the main function \n",
    "Updt.on_click(Update_Value)\n",
    "\n",
    "# Checks the state of the value of each slider\n",
    "\n",
    "Slider_1.observe(value_slider, names='value')\n",
    "Slider_2.observe(value_slider1, names='value')\n",
    "Slider_3.observe(value_slider2, names='value')"
   ]
  }
 ],
 "metadata": {
  "kernelspec": {
   "display_name": "Python 3 (ipykernel)",
   "language": "python",
   "name": "python3"
  },
  "language_info": {
   "codemirror_mode": {
    "name": "ipython",
    "version": 3
   },
   "file_extension": ".py",
   "mimetype": "text/x-python",
   "name": "python",
   "nbconvert_exporter": "python",
   "pygments_lexer": "ipython3",
   "version": "3.8.13"
  },
  "vscode": {
   "interpreter": {
    "hash": "7a4ea60af49e7ee9128cba5bcf467a3789c2ece0ff23513ce3e913ea824bfd2c"
   }
  }
 },
 "nbformat": 4,
 "nbformat_minor": 5
}
